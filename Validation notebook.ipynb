{
 "cells": [
  {
   "cell_type": "markdown",
   "metadata": {},
   "source": [
    "# Example of validation code"
   ]
  },
  {
   "cell_type": "markdown",
   "metadata": {},
   "source": [
    "This shows an example of how to derive detection AJI/PQ scores from a model"
   ]
  },
  {
   "cell_type": "code",
   "execution_count": 10,
   "metadata": {},
   "outputs": [
    {
     "name": "stdout",
     "output_type": "stream",
     "text": [
      "The autoreload extension is already loaded. To reload it, use:\n",
      "  %reload_ext autoreload\n"
     ]
    }
   ],
   "source": [
    "import os\n",
    "import sys\n",
    "import random\n",
    "import math\n",
    "import re\n",
    "import time\n",
    "import numpy as np\n",
    "import tensorflow as tf\n",
    "import matplotlib\n",
    "import matplotlib.pyplot as plt\n",
    "import matplotlib.patches as patches\n",
    "import skimage.io\n",
    "import glob\n",
    "import albumentations as A\n",
    "import random\n",
    "\n",
    "\n",
    "# Root directory of the project\n",
    "ROOT_DIR = os.path.abspath(\"../../\")\n",
    "\n",
    "# Import Mask RCNN \n",
    "sys.path.append(ROOT_DIR)\n",
    "from mrcnn import utils\n",
    "from mrcnn import visualize\n",
    "from mrcnn.visualize import display_images\n",
    "from mrcnn import model as modellib\n",
    "from mrcnn.model import log\n",
    "from mrcnn import stats_utils\n",
    "\n",
    "import Monuseg\n",
    "\n",
    "%matplotlib inline \n",
    "# Comment out to reload imported modules if they change\n",
    "%load_ext autoreload\n",
    "%autoreload 2\n",
    "\n",
    "# Directory to save logs and trained model\n",
    "MODEL_DIR = os.path.join(ROOT_DIR, \"logs\")\n",
    "\n",
    "MONUSEG_DIR = os.path.join(ROOT_DIR, \"datasets\",\"monuseg\")"
   ]
  },
  {
   "cell_type": "code",
   "execution_count": 12,
   "metadata": {},
   "outputs": [
    {
     "name": "stdout",
     "output_type": "stream",
     "text": [
      "Found 14 images in C:\\Users\\User\\GitHub\\Mask_RCNN_Thesis\\datasets\\Monuseg_dist\\val\\tissue_images\n",
      "Image Count: 14\n",
      "Class Count: 2\n",
      "  0. BG                                                \n",
      "  1. nucleus                                           \n"
     ]
    }
   ],
   "source": [
    "# Load dataset - See dataset Notebook\n",
    "subset = \"val\"\n",
    "dataset_dir = os.path.join(MONUSEG_DIR, subset)\n",
    "image_dir = os.path.join(dataset_dir, \"tissue_images\")\n",
    "image_ids = os.listdir(image_dir)\n",
    "print(\"Found {} images in {}\".format(len(image_ids), image_dir))\n",
    "\n",
    "\n",
    "dataset = Monuseg.MonusegDataset()\n",
    "dataset.add_class(source = \"Monuseg\", class_id =  1, class_name = \"nucleus\")\n",
    "\n",
    "# Fill with the samples\n",
    "i = 0\n",
    "for _id in image_ids:\n",
    "    name,_ = os.path.splitext(_id)\n",
    "    if i <= len(image_ids):\n",
    "        dataset.add_image(source = \"Monuseg\",\n",
    "                                image_id = name,\n",
    "                                path = os.path.join(image_dir, _id))\n",
    "    i+=1    \n",
    "\n",
    "    \n",
    "\n",
    "dataset.prepare()\n",
    "\n",
    "print(\"Image Count: {}\".format(len(dataset.image_ids)))\n",
    "print(\"Class Count: {}\".format(dataset.num_classes))\n",
    "for i, info in enumerate(dataset.class_info):\n",
    "    print(\"{:3}. {:50}\".format(i, info['name']))"
   ]
  },
  {
   "cell_type": "code",
   "execution_count": 13,
   "metadata": {},
   "outputs": [
    {
     "name": "stdout",
     "output_type": "stream",
     "text": [
      "Loading weights  C:\\Users\\User\\GitHub\\Mask_RCNN_Thesis\\logs\\monuseg_5fold_coco_dist_h_tissue_img220210703T1151\\mask_rcnn_monuseg_5fold_coco_dist_h_tissue_img2_0050.h5\n",
      "Re-starting from epoch 50\n"
     ]
    }
   ],
   "source": [
    "# Load model\n",
    "DEVICE = \"/gpu:0\"\n",
    "TEST_MODE = \"inference\"\n",
    "config = Monuseg_dist.MonusegDIST_H_InferenceConfig()\n",
    "\n",
    "# Create model in inference mode\n",
    "with tf.device(DEVICE):\n",
    "    model = modellib.MaskRCNN(mode=\"inference\", model_dir=MODEL_DIR,\n",
    "                              config=config)\n",
    "weights_path = r\"C:\\Users\\User\\GitHub\\Mask_RCNN_Thesis\\logs\\monuseg_5fold_coco_dist_h_tissue_img220210703T1151\\mask_rcnn_monuseg_5fold_coco_dist_h_tissue_img2_0050.h5\"\n",
    "\n",
    "print(\"Loading weights \", weights_path)\n",
    "# Create a folder to save detections at the dir of the model\n",
    "model.load_weights(weights_path, by_name=True)\n",
    "model_dir = os.path.split(weights_path)[0]"
   ]
  },
  {
   "cell_type": "markdown",
   "metadata": {},
   "source": [
    "Run detecttions, save results"
   ]
  },
  {
   "cell_type": "code",
   "execution_count": 5,
   "metadata": {
    "scrolled": true
   },
   "outputs": [
    {
     "name": "stdout",
     "output_type": "stream",
     "text": [
      "TCGA-2Z-A9J9-01A-01-TS1\n",
      "Running detection...\n",
      "Found 673 instances\n",
      "Saving...\n",
      "TCGA-44-2665-01B-06-BS6\n",
      "Running detection...\n",
      "Found 884 instances\n",
      "Saving...\n",
      "TCGA-69-7764-01A-01-TS1\n",
      "Running detection...\n",
      "Found 584 instances\n",
      "Saving...\n",
      "TCGA-A6-6782-01A-01-BS1\n",
      "Running detection...\n",
      "Found 522 instances\n",
      "Saving...\n",
      "TCGA-AC-A2FO-01A-01-TS1\n",
      "Running detection...\n",
      "Found 625 instances\n",
      "Saving...\n",
      "TCGA-AO-A0J2-01A-01-BSA\n",
      "Running detection...\n",
      "Found 446 instances\n",
      "Saving...\n",
      "TCGA-CU-A0YN-01A-02-BSB\n",
      "Running detection...\n",
      "Found 827 instances\n",
      "Saving...\n",
      "TCGA-EJ-A46H-01A-03-TSC\n",
      "Running detection...\n",
      "Found 561 instances\n",
      "Saving...\n",
      "TCGA-FG-A4MU-01B-01-TS1\n",
      "Running detection...\n",
      "Found 499 instances\n",
      "Saving...\n",
      "TCGA-GL-6846-01A-01-BS1\n",
      "Running detection...\n",
      "Found 409 instances\n",
      "Saving...\n",
      "TCGA-HC-7209-01A-01-TS1\n",
      "Running detection...\n",
      "Found 380 instances\n",
      "Saving...\n",
      "TCGA-HT-8564-01Z-00-DX1\n",
      "Running detection...\n",
      "Found 282 instances\n",
      "Saving...\n",
      "TCGA-IZ-8196-01A-01-BS1\n",
      "Running detection...\n",
      "Found 631 instances\n",
      "Saving...\n",
      "TCGA-ZF-A9R5-01A-01-TS1\n",
      "Running detection...\n",
      "Found 538 instances\n",
      "Saving...\n"
     ]
    }
   ],
   "source": [
    "Monuseg_dist.calc_and_save_detect(model,dataset,model_dir)"
   ]
  },
  {
   "cell_type": "markdown",
   "metadata": {},
   "source": [
    "Load detections"
   ]
  },
  {
   "cell_type": "code",
   "execution_count": 6,
   "metadata": {},
   "outputs": [
    {
     "name": "stdout",
     "output_type": "stream",
     "text": [
      "Loaded: TCGA-2Z-A9J9-01A-01-TS1, Detections: 673\n",
      "Loaded: TCGA-44-2665-01B-06-BS6, Detections: 884\n",
      "Loaded: TCGA-69-7764-01A-01-TS1, Detections: 584\n",
      "Loaded: TCGA-A6-6782-01A-01-BS1, Detections: 522\n",
      "Loaded: TCGA-AC-A2FO-01A-01-TS1, Detections: 625\n",
      "Loaded: TCGA-AO-A0J2-01A-01-BSA, Detections: 446\n",
      "Loaded: TCGA-CU-A0YN-01A-02-BSB, Detections: 827\n",
      "Loaded: TCGA-EJ-A46H-01A-03-TSC, Detections: 561\n",
      "Loaded: TCGA-FG-A4MU-01B-01-TS1, Detections: 499\n",
      "Loaded: TCGA-GL-6846-01A-01-BS1, Detections: 409\n",
      "Loaded: TCGA-HC-7209-01A-01-TS1, Detections: 380\n",
      "Loaded: TCGA-HT-8564-01Z-00-DX1, Detections: 282\n",
      "Loaded: TCGA-IZ-8196-01A-01-BS1, Detections: 631\n",
      "Loaded: TCGA-ZF-A9R5-01A-01-TS1, Detections: 538\n"
     ]
    }
   ],
   "source": [
    "pred_mask_flat_dict = {}\n",
    "detection_dir = os.path.join(model_dir, \"Detections\")\n",
    "for _id in dataset.image_ids:\n",
    "    n = dataset.image_info[_id][\"id\"]\n",
    "    m = np.load(os.path.join(detection_dir, n + \"_label.npy\"))\n",
    "    print(\"Loaded: {}, Detections: {}\".format(n, np.max(m)))\n",
    "    pred_mask_flat_dict[n] = m\n",
    "    "
   ]
  },
  {
   "cell_type": "markdown",
   "metadata": {},
   "source": [
    "Load GT data"
   ]
  },
  {
   "cell_type": "code",
   "execution_count": 7,
   "metadata": {},
   "outputs": [
    {
     "name": "stdout",
     "output_type": "stream",
     "text": [
      "Loaded: TCGA-2Z-A9J9-01A-01-TS1, Detections: 575\n",
      "Loaded: TCGA-44-2665-01B-06-BS6, Detections: 818\n",
      "Loaded: TCGA-69-7764-01A-01-TS1, Detections: 441\n",
      "Loaded: TCGA-A6-6782-01A-01-BS1, Detections: 441\n",
      "Loaded: TCGA-AC-A2FO-01A-01-TS1, Detections: 521\n",
      "Loaded: TCGA-AO-A0J2-01A-01-BSA, Detections: 356\n",
      "Loaded: TCGA-CU-A0YN-01A-02-BSB, Detections: 677\n",
      "Loaded: TCGA-EJ-A46H-01A-03-TSC, Detections: 466\n",
      "Loaded: TCGA-FG-A4MU-01B-01-TS1, Detections: 465\n",
      "Loaded: TCGA-GL-6846-01A-01-BS1, Detections: 355\n",
      "Loaded: TCGA-HC-7209-01A-01-TS1, Detections: 325\n",
      "Loaded: TCGA-HT-8564-01Z-00-DX1, Detections: 249\n",
      "Loaded: TCGA-IZ-8196-01A-01-BS1, Detections: 533\n",
      "Loaded: TCGA-ZF-A9R5-01A-01-TS1, Detections: 475\n"
     ]
    }
   ],
   "source": [
    "gt_mask_flat_dict = {}\n",
    "for _id in dataset.image_ids:   \n",
    "    info = dataset.image_info[_id]\n",
    "    n = info[\"id\"]\n",
    "    m = dataset.load_labelled_mask(_id)\n",
    "    print(\"Loaded: {}, Detections: {}\".format(n, np.max(m)))\n",
    "    gt_mask_flat_dict[n] = m\n"
   ]
  },
  {
   "cell_type": "markdown",
   "metadata": {},
   "source": [
    "Calculate Scores, save them"
   ]
  },
  {
   "cell_type": "code",
   "execution_count": 8,
   "metadata": {
    "scrolled": false
   },
   "outputs": [
    {
     "name": "stdout",
     "output_type": "stream",
     "text": [
      "Logging to C:\\Users\\User\\GitHub\\Mask_RCNN_Thesis\\logs\\monuseg_5fold_coco_dist_h_tissue_img220210703T1151\\stats.txt\n",
      "Running calculations on: TCGA-2Z-A9J9-01A-01-TS1\n",
      "AJI: 0.5541808220165629\tPQ:0.5469384399352768\n",
      "Running calculations on: TCGA-44-2665-01B-06-BS6\n",
      "AJI: 0.6523957181761804\tPQ:0.6740675001645897\n",
      "Running calculations on: TCGA-69-7764-01A-01-TS1\n",
      "AJI: 0.6145808201116635\tPQ:0.6183868037206715\n",
      "Running calculations on: TCGA-A6-6782-01A-01-BS1\n",
      "AJI: 0.560158956505355\tPQ:0.5696642180551061\n",
      "Running calculations on: TCGA-AC-A2FO-01A-01-TS1\n",
      "AJI: 0.5622277009431843\tPQ:0.5587043645318208\n",
      "Running calculations on: TCGA-AO-A0J2-01A-01-BSA\n",
      "AJI: 0.5534361125413457\tPQ:0.5251407445321958\n",
      "Running calculations on: TCGA-CU-A0YN-01A-02-BSB\n",
      "AJI: 0.5702510160692751\tPQ:0.6122307718251538\n",
      "Running calculations on: TCGA-EJ-A46H-01A-03-TSC\n",
      "AJI: 0.5868723921894894\tPQ:0.6022960076475962\n",
      "Running calculations on: TCGA-FG-A4MU-01B-01-TS1\n",
      "AJI: 0.6463256098493538\tPQ:0.6206396853284347\n",
      "Running calculations on: TCGA-GL-6846-01A-01-BS1\n",
      "AJI: 0.6653708076927479\tPQ:0.6746460700777421\n",
      "Running calculations on: TCGA-HC-7209-01A-01-TS1\n",
      "AJI: 0.6265259823853175\tPQ:0.6305108340216877\n",
      "Running calculations on: TCGA-HT-8564-01Z-00-DX1\n",
      "AJI: 0.6473833543505675\tPQ:0.6413109801882366\n",
      "Running calculations on: TCGA-IZ-8196-01A-01-BS1\n",
      "AJI: 0.6621453626674909\tPQ:0.657726295753104\n",
      "Running calculations on: TCGA-ZF-A9R5-01A-01-TS1\n",
      "AJI: 0.6448241754016826\tPQ:0.6403565213522951\n",
      "Mean AJI: 0.6104770593500153 Mean PQ: 0.612329945509565\n"
     ]
    }
   ],
   "source": [
    "# Set up to txt\n",
    "save_path = os.path.join(model_dir, \"stats.txt\")\n",
    "file = open(save_path, \"a\") \n",
    "file.write(\"NAME\\tAJI\\tPQ\\tDQ\\tSQ\\n\")\n",
    "print(\"Logging to {}\".format(save_path))\n",
    "avg_aji = 0\n",
    "avg_pq = 0\n",
    "avg_dice1 = 0\n",
    "avg_dice2 = 0\n",
    "\n",
    "for n in pred_mask_flat_dict.keys():\n",
    "    \n",
    "    print(\"Running calculations on: {}\".format(n))\n",
    "    \n",
    "    pred_remap = stats_utils.remap_label(pred_mask_flat_dict[n])\n",
    "    gt_remap = stats_utils.remap_label(gt_mask_flat_dict[n])\n",
    "    \n",
    "    aji = stats_utils.get_fast_aji(gt_remap, pred_remap)\n",
    "    pq = stats_utils.get_fast_pq(gt_remap, pred_remap)\n",
    "    dice1 = stats_utils.get_dice_1(gt_remap, pred_remap)\n",
    "    dice2 = stats_utils.get_fast_dice_2(gt_remap, pred_remap)\n",
    "\n",
    "    \n",
    "    avg_aji += aji\n",
    "    avg_pq += pq[0][2]\n",
    "    avg_dice1 += dice1\n",
    "    avg_dice2 += dice2\n",
    "    \n",
    "    print(\"AJI: {}\\tPQ:{}\".format(aji, pq[0][2]))\n",
    "#   Write the results in a txt:\n",
    "    file.write(n + \"\\t\" + str(aji) + \"\\t\" + str(pq[0][2]) + \"\\t\" + str(pq[0][0]) + \"\\t\" + str(pq[0][1]) +  \n",
    "               \"\\t\" + str(dice1) + \"\\t\" + str(dice2) + \"\\n\")\n",
    "\n",
    "avg_aji = avg_aji/len(pred_mask_flat_dict.keys())   \n",
    "avg_pq = avg_pq/len(pred_mask_flat_dict.keys())\n",
    "avg_dice1 = avg_dice1/len(pred_mask_flat_dict.keys())\n",
    "avg_dice2 = avg_dice1/len(pred_mask_flat_dict.keys())\n",
    "print(\"Mean AJI: \" + str(avg_aji) + \" Mean PQ: \" + str(avg_pq))\n",
    "file.write(\"Mean AJI: \" + str(avg_aji) + \" Mean PQ: \" + str(avg_pq))\n",
    "file.close()"
   ]
  }
 ],
 "metadata": {
  "kernelspec": {
   "display_name": "Python 3",
   "language": "python",
   "name": "python3"
  },
  "language_info": {
   "codemirror_mode": {
    "name": "ipython",
    "version": 3
   },
   "file_extension": ".py",
   "mimetype": "text/x-python",
   "name": "python",
   "nbconvert_exporter": "python",
   "pygments_lexer": "ipython3",
   "version": "3.7.4"
  }
 },
 "nbformat": 4,
 "nbformat_minor": 4
}
