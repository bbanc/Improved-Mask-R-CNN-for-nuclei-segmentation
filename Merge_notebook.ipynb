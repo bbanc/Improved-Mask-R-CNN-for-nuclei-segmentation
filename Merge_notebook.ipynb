{
 "cells": [
  {
   "cell_type": "code",
   "execution_count": 1,
   "metadata": {},
   "outputs": [
    {
     "name": "stderr",
     "output_type": "stream",
     "text": [
      "c:\\tensorlflow1.14\\lib\\site-packages\\tensorflow\\python\\framework\\dtypes.py:516: FutureWarning: Passing (type, 1) or '1type' as a synonym of type is deprecated; in a future version of numpy, it will be understood as (type, (1,)) / '(1,)type'.\n",
      "  _np_qint8 = np.dtype([(\"qint8\", np.int8, 1)])\n",
      "c:\\tensorlflow1.14\\lib\\site-packages\\tensorflow\\python\\framework\\dtypes.py:517: FutureWarning: Passing (type, 1) or '1type' as a synonym of type is deprecated; in a future version of numpy, it will be understood as (type, (1,)) / '(1,)type'.\n",
      "  _np_quint8 = np.dtype([(\"quint8\", np.uint8, 1)])\n",
      "c:\\tensorlflow1.14\\lib\\site-packages\\tensorflow\\python\\framework\\dtypes.py:518: FutureWarning: Passing (type, 1) or '1type' as a synonym of type is deprecated; in a future version of numpy, it will be understood as (type, (1,)) / '(1,)type'.\n",
      "  _np_qint16 = np.dtype([(\"qint16\", np.int16, 1)])\n",
      "c:\\tensorlflow1.14\\lib\\site-packages\\tensorflow\\python\\framework\\dtypes.py:519: FutureWarning: Passing (type, 1) or '1type' as a synonym of type is deprecated; in a future version of numpy, it will be understood as (type, (1,)) / '(1,)type'.\n",
      "  _np_quint16 = np.dtype([(\"quint16\", np.uint16, 1)])\n",
      "c:\\tensorlflow1.14\\lib\\site-packages\\tensorflow\\python\\framework\\dtypes.py:520: FutureWarning: Passing (type, 1) or '1type' as a synonym of type is deprecated; in a future version of numpy, it will be understood as (type, (1,)) / '(1,)type'.\n",
      "  _np_qint32 = np.dtype([(\"qint32\", np.int32, 1)])\n",
      "c:\\tensorlflow1.14\\lib\\site-packages\\tensorflow\\python\\framework\\dtypes.py:525: FutureWarning: Passing (type, 1) or '1type' as a synonym of type is deprecated; in a future version of numpy, it will be understood as (type, (1,)) / '(1,)type'.\n",
      "  np_resource = np.dtype([(\"resource\", np.ubyte, 1)])\n",
      "c:\\tensorlflow1.14\\lib\\site-packages\\tensorboard\\compat\\tensorflow_stub\\dtypes.py:541: FutureWarning: Passing (type, 1) or '1type' as a synonym of type is deprecated; in a future version of numpy, it will be understood as (type, (1,)) / '(1,)type'.\n",
      "  _np_qint8 = np.dtype([(\"qint8\", np.int8, 1)])\n",
      "c:\\tensorlflow1.14\\lib\\site-packages\\tensorboard\\compat\\tensorflow_stub\\dtypes.py:542: FutureWarning: Passing (type, 1) or '1type' as a synonym of type is deprecated; in a future version of numpy, it will be understood as (type, (1,)) / '(1,)type'.\n",
      "  _np_quint8 = np.dtype([(\"quint8\", np.uint8, 1)])\n",
      "c:\\tensorlflow1.14\\lib\\site-packages\\tensorboard\\compat\\tensorflow_stub\\dtypes.py:543: FutureWarning: Passing (type, 1) or '1type' as a synonym of type is deprecated; in a future version of numpy, it will be understood as (type, (1,)) / '(1,)type'.\n",
      "  _np_qint16 = np.dtype([(\"qint16\", np.int16, 1)])\n",
      "c:\\tensorlflow1.14\\lib\\site-packages\\tensorboard\\compat\\tensorflow_stub\\dtypes.py:544: FutureWarning: Passing (type, 1) or '1type' as a synonym of type is deprecated; in a future version of numpy, it will be understood as (type, (1,)) / '(1,)type'.\n",
      "  _np_quint16 = np.dtype([(\"quint16\", np.uint16, 1)])\n",
      "c:\\tensorlflow1.14\\lib\\site-packages\\tensorboard\\compat\\tensorflow_stub\\dtypes.py:545: FutureWarning: Passing (type, 1) or '1type' as a synonym of type is deprecated; in a future version of numpy, it will be understood as (type, (1,)) / '(1,)type'.\n",
      "  _np_qint32 = np.dtype([(\"qint32\", np.int32, 1)])\n",
      "c:\\tensorlflow1.14\\lib\\site-packages\\tensorboard\\compat\\tensorflow_stub\\dtypes.py:550: FutureWarning: Passing (type, 1) or '1type' as a synonym of type is deprecated; in a future version of numpy, it will be understood as (type, (1,)) / '(1,)type'.\n",
      "  np_resource = np.dtype([(\"resource\", np.ubyte, 1)])\n",
      "Using TensorFlow backend.\n"
     ]
    }
   ],
   "source": [
    "import os\n",
    "import sys\n",
    "import random\n",
    "import math\n",
    "import re\n",
    "import time\n",
    "import numpy as np\n",
    "import tensorflow as tf\n",
    "import matplotlib\n",
    "import matplotlib.pyplot as plt\n",
    "import matplotlib.patches as patches\n",
    "import skimage.io\n",
    "import glob\n",
    "import albumentations as A\n",
    "\n",
    "\n",
    "# Root directory of the project\n",
    "ROOT_DIR = os.path.abspath(os.getcwd())\n",
    "\n",
    "# Import Mask RCNN \n",
    "sys.path.append(ROOT_DIR)\n",
    "from mrcnn import utils\n",
    "from mrcnn import visualize\n",
    "from mrcnn.visualize import display_images\n",
    "from mrcnn import model as modellib\n",
    "from mrcnn.model import log\n",
    "from mrcnn import stats_utils\n",
    "\n",
    "import Monuseg_dist\n",
    "\n",
    "%matplotlib inline \n",
    "%load_ext autoreload\n",
    "%autoreload 2\n",
    "\n",
    "# Directory to save logs and trained model\n",
    "MODEL_DIR = os.path.join(ROOT_DIR, \"logs\")\n",
    "\n",
    "MONUSEG_DIR = os.path.join(ROOT_DIR, \"datasets\\\\Monuseg_dist\")\n",
    "config = Monuseg_dist.MonusegDIST_H_InferenceConfig()\n"
   ]
  },
  {
   "cell_type": "code",
   "execution_count": 2,
   "metadata": {},
   "outputs": [
    {
     "name": "stdout",
     "output_type": "stream",
     "text": [
      "Found 14 images in C:\\Users\\User\\GitHub\\Improved Mask R-CNN\\datasets\\Monuseg_dist\\val\\tissue_images\n",
      "Image Count: 14\n",
      "Class Count: 2\n",
      "  0. BG                                                \n",
      "  1. nucleus                                           \n"
     ]
    }
   ],
   "source": [
    "# Load dataset - \n",
    "subset = \"val\"\n",
    "dataset_dir = os.path.join(MONUSEG_DIR, subset)\n",
    "image_dir = os.path.join(dataset_dir, \"tissue_images\")\n",
    "image_ids = os.listdir(image_dir)\n",
    "print(\"Found {} images in {}\".format(len(image_ids), image_dir))\n",
    "\n",
    "\n",
    "dataset = Monuseg_dist.MonusegDISTDataset(\"UNET\")\n",
    "dataset.add_class(source = \"Monuseg\", class_id =  1, class_name = \"nucleus\")\n",
    "\n",
    "# Fill with the samples\n",
    "i = 0\n",
    "for _id in image_ids:\n",
    "    name,_ = os.path.splitext(_id)\n",
    "    if i <= len(image_ids):\n",
    "        dataset.add_image(source = \"Monuseg\",\n",
    "                                image_id = name,\n",
    "                                path = os.path.join(image_dir, _id))\n",
    "    i+=1    \n",
    "\n",
    "    \n",
    "dataset.prepare()\n",
    "\n",
    "print(\"Image Count: {}\".format(len(dataset.image_ids)))\n",
    "print(\"Class Count: {}\".format(dataset.num_classes))\n",
    "for i, info in enumerate(dataset.class_info):\n",
    "    print(\"{:3}. {:50}\".format(i, info['name']))"
   ]
  },
  {
   "cell_type": "code",
   "execution_count": 3,
   "metadata": {},
   "outputs": [],
   "source": [
    "# Example Detections from pannuke ensemble\n",
    "path_list = [\n",
    "    r\"C:\\Users\\User\\GitHub\\Improved Mask R-CNN\\logs\\Fold0\\Detections\",\n",
    "    r\"C:\\Users\\User\\GitHub\\Improved Mask R-CNN\\logs\\Fold1\\Detections\",\n",
    "    r\"C:\\Users\\User\\GitHub\\Improved Mask R-CNN\\logs\\Fold2\\Detections\",\n",
    "    r\"C:\\Users\\User\\GitHub\\Improved Mask R-CNN\\logs\\Fold3\\Detections\",\n",
    "    r\"C:\\Users\\User\\GitHub\\Improved Mask R-CNN\\logs\\Fold4\\Detections\"\n",
    "]\n",
    "confidence_thresh = 0.7 # Min average confidence of the ensemble for positive pixel segmentation\n",
    "iou_thresh = 0.7 # Min IoU for matching instances (relatively high)"
   ]
  },
  {
   "cell_type": "code",
   "execution_count": 5,
   "metadata": {},
   "outputs": [
    {
     "name": "stdout",
     "output_type": "stream",
     "text": [
      "TCGA-AO-A0J2-01A-01-BSA\n",
      "(1000, 1000, 425) uint8\n",
      "(1000, 1000, 466) uint8\n",
      "(1000, 1000, 452) uint8\n",
      "(1000, 1000, 466) uint8\n",
      "(1000, 1000, 465) uint8\n",
      "(1000, 1000, 2274)\n",
      "(2274, 4)\n"
     ]
    }
   ],
   "source": [
    "# Deconstructed Example\n",
    "_id = 5\n",
    "img = dataset.load_image(_id)[:,:,0:3]\n",
    "info = dataset.image_info[_id]\n",
    "n = info[\"id\"]\n",
    "print(n)\n",
    "all_masks = []\n",
    "# Load exsting detections (float)\n",
    "for p in path_list:\n",
    "    m = np.load(os.path.join(p, n + \"_masks.npz\"))[\"arr_0\"]\n",
    "    m = m / np.max(m) * 255 # convert to uint8 for memory/performance\n",
    "    m = m.astype(np.uint8)\n",
    "    print(m.shape, m.dtype)\n",
    "    all_masks.append(m)\n",
    "    \n",
    "    \n",
    "all_masks = np.concatenate(all_masks, axis = -1)\n",
    "print(all_masks.shape)\n",
    "\n",
    "all_bboxes = utils.extract_bboxes(all_masks > confidence_thresh) # for preliminary bboxes\n",
    "print(all_bboxes.shape)"
   ]
  },
  {
   "cell_type": "code",
   "execution_count": 7,
   "metadata": {},
   "outputs": [
    {
     "name": "stdout",
     "output_type": "stream",
     "text": [
      "Merged: idx 0 with idxs [ 603  951 1481 1942]\n",
      "Box coordinates were:\n",
      "[911 271 935 323]\n",
      "[[908 270 938 323]\n",
      " [909 270 938 322]\n",
      " [909 271 938 319]\n",
      " [909 270 937 322]]\n"
     ]
    },
    {
     "data": {
      "image/png": "[encoded data removed]",
      "text/plain": [
       "<Figure size 1152x1152 with 5 Axes>"
      ]
     },
     "metadata": {
      "needs_background": "light"
     },
     "output_type": "display_data"
    },
    {
     "data": {
      "image/png": "[encoded data removed]",
      "text/plain": [
       "<Figure size 432x288 with 1 Axes>"
      ]
     },
     "metadata": {
      "needs_background": "light"
     },
     "output_type": "display_data"
    }
   ],
   "source": [
    "_all_masks = all_masks.copy()\n",
    "_all_bboxes = all_bboxes.copy()\n",
    "\n",
    "ret_mask = []\n",
    "counter = np.array(range(_all_bboxes.shape[0])) # get indices\n",
    "n = 0\n",
    "maxi = 1 #_all_bboxes.shape[0]\n",
    "\n",
    "y1 = _all_bboxes[:, 0]\n",
    "x1 = _all_bboxes[:, 1]\n",
    "y2 = _all_bboxes[:, 2]\n",
    "x2 = _all_bboxes[:, 3]\n",
    "area = (y2 - y1) * (x2 - x1)\n",
    "\n",
    "fig, axs = plt.subplots(1,5, figsize = (16,16))\n",
    "\n",
    "while n < maxi: # Run this example for 1 step (In code go through all bboxes)\n",
    "    if counter[n] == -1: # If has been matched before - skip\n",
    "        n+=1\n",
    "        continue\n",
    "    else:\n",
    "        i = counter[n] # Take bbox (-index)\n",
    "        # Get IoU with all other boxes (skip the first, which we have atm to avoid errors)\n",
    "        iou = utils.compute_iou(_all_bboxes[i], _all_bboxes[1:], area[i], area[1:]) \n",
    "        # Get indices of boxes with iou > thresh, (+1 for skipped box)\n",
    "        idxs = np.where(iou > iou_thresh)[0] + 1 \n",
    "        matches = np.append(idxs, counter[0]) # Add current box\n",
    "        if len(matches) > 2: # If majority of models saw something at this intersection\n",
    "            inst_mask = all_masks[:,:,matches]\n",
    "            for ii in range(inst_mask.shape[-1]):\n",
    "                axs[ii].imshow(inst_mask[:,:,ii])\n",
    "            # Merge by average voting\n",
    "            inst_mask = np.mean(inst_mask, axis = -1) > confidence_thresh * 255   \n",
    "            ret_mask.append(inst_mask)\n",
    "            print(\"Merged: idx {} with idxs {}\".format(i, idxs))\n",
    "            print(\"Box coordinates were:\")\n",
    "            print(_all_bboxes[i])\n",
    "            print(_all_bboxes[idxs])\n",
    "\n",
    "        # Set visited boxes to -1, continue\n",
    "        counter[np.isin(counter, matches)] = -1\n",
    "    plt.figure()\n",
    "    plt.imshow(inst_mask)\n",
    "    n+=1\n",
    "    \n",
    "ret_mask = np.array(ret_mask)\n",
    "ret_mask = ret_mask.transpose(1,2,0)"
   ]
  }
 ],
 "metadata": {
  "kernelspec": {
   "display_name": "Python 3",
   "language": "python",
   "name": "python3"
  },
  "language_info": {
   "codemirror_mode": {
    "name": "ipython",
    "version": 3
   },
   "file_extension": ".py",
   "mimetype": "text/x-python",
   "name": "python",
   "nbconvert_exporter": "python",
   "pygments_lexer": "ipython3",
   "version": "3.7.4"
  }
 },
 "nbformat": 4,
 "nbformat_minor": 4
}
